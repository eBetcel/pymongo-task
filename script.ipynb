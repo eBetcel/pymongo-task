{
  "nbformat": 4,
  "nbformat_minor": 0,
  "metadata": {
    "colab": {
      "provenance": [],
      "authorship_tag": "ABX9TyM56L6kvgEkG+LBo7j8biQg",
      "include_colab_link": true
    },
    "kernelspec": {
      "name": "python3",
      "display_name": "Python 3"
    },
    "language_info": {
      "name": "python"
    }
  },
  "cells": [
    {
      "cell_type": "markdown",
      "metadata": {
        "id": "view-in-github",
        "colab_type": "text"
      },
      "source": [
        "<a href=\"https://colab.research.google.com/github/eBetcel/pymongo-task/blob/main/script.ipynb\" target=\"_parent\"><img src=\"https://colab.research.google.com/assets/colab-badge.svg\" alt=\"Open In Colab\"/></a>"
      ]
    },
    {
      "cell_type": "markdown",
      "source": [
        "# Installing and importing libraries"
      ],
      "metadata": {
        "id": "kDwaZe4UQmL2"
      }
    },
    {
      "cell_type": "code",
      "execution_count": 1,
      "metadata": {
        "colab": {
          "base_uri": "https://localhost:8080/"
        },
        "id": "KLbBUrCqOlXB",
        "outputId": "ae6babee-68f4-4dde-ff88-c4a5e4ba6512"
      },
      "outputs": [
        {
          "output_type": "stream",
          "name": "stdout",
          "text": [
            "\n",
            "WARNING: apt does not have a stable CLI interface. Use with caution in scripts.\n",
            "\n",
            " * Starting database mongodb\n",
            "   ...done.\n"
          ]
        }
      ],
      "source": [
        "#Install and start server\n",
        "!apt install mongodb >log\n",
        "!service mongodb start\n",
        "\n",
        "from pymongo import MongoClient\n",
        "import pandas as pd"
      ]
    },
    {
      "cell_type": "markdown",
      "source": [
        "# Reading dataset and creating Pymongo client"
      ],
      "metadata": {
        "id": "AT-7eWs1QgNw"
      }
    },
    {
      "cell_type": "code",
      "source": [
        "client = MongoClient('localhost', 27017)\n",
        "db = client.database"
      ],
      "metadata": {
        "id": "mSWWI1gXWM-N"
      },
      "execution_count": 2,
      "outputs": []
    },
    {
      "cell_type": "code",
      "source": [
        "alunos_ufrn = db.alunos_ufrn"
      ],
      "metadata": {
        "id": "NocS_nACQXR-"
      },
      "execution_count": 3,
      "outputs": []
    },
    {
      "cell_type": "code",
      "source": [
        "aluno = {'matricula': '20220041044', 'ano_ingresso': '2022', 'periodo_ingresso': '1', 'id_curso': '92127264', 'id_unidade': '6069', 'id_unidade_gestora': '605', 'nome_discente': 'RAQUEL DA COSTA FREIRE', 'sexo': 'F', 'forma_ingresso': 'SiSU', 'tipo_discente': 'REGULAR', 'status': 'ATIVO', 'sigla_nivel_ensino': 'G', 'nivel_ensino': 'GRADUAÇÃO', 'nome_curso': 'TECNOLOGIA DA INFORMAÇÃO', 'modalidade_educacao': 'PRESENCIAL', 'nome_unidade': 'INSTITUTO METROPOLE DIGITAL', 'nome_unidade_gestora': 'UNIVERSIDADE FEDERAL DO RIO GRANDE DO NORTE'}"
      ],
      "metadata": {
        "id": "WqUV6W60M0Bk"
      },
      "execution_count": 39,
      "outputs": []
    },
    {
      "cell_type": "code",
      "source": [
        "alunos = db.alunos_ufrn\n",
        "aluno_id = alunos.insert_one(aluno).inserted_id"
      ],
      "metadata": {
        "id": "2OLdHI8bRHGR"
      },
      "execution_count": 40,
      "outputs": []
    },
    {
      "cell_type": "code",
      "source": [
        "aluno_id"
      ],
      "metadata": {
        "colab": {
          "base_uri": "https://localhost:8080/"
        },
        "id": "jMWDOpceTEH7",
        "outputId": "d05890ac-1e4c-4c7f-ca4b-574fb52988b2"
      },
      "execution_count": 41,
      "outputs": [
        {
          "output_type": "execute_result",
          "data": {
            "text/plain": [
              "ObjectId('639698e3a38c1a37829eda10')"
            ]
          },
          "metadata": {},
          "execution_count": 41
        }
      ]
    },
    {
      "cell_type": "code",
      "source": [
        "db.list_collection_names()"
      ],
      "metadata": {
        "colab": {
          "base_uri": "https://localhost:8080/"
        },
        "id": "OJ2i6KlDJUUC",
        "outputId": "c2e718b3-0573-47ef-f015-005330e2da12"
      },
      "execution_count": 4,
      "outputs": [
        {
          "output_type": "execute_result",
          "data": {
            "text/plain": [
              "[]"
            ]
          },
          "metadata": {},
          "execution_count": 4
        }
      ]
    },
    {
      "cell_type": "code",
      "source": [
        "import pprint\n",
        "# pprint.pprint(alunos.find_one({'periodo_ingresso': '1'}))\n",
        "pprint.pprint(alunos.find())\n",
        "\n"
      ],
      "metadata": {
        "colab": {
          "base_uri": "https://localhost:8080/"
        },
        "id": "C5rMY3ImLN1z",
        "outputId": "93ce45c5-4116-4fbd-fa91-8ed3fd605577"
      },
      "execution_count": 19,
      "outputs": [
        {
          "output_type": "stream",
          "name": "stdout",
          "text": [
            "<pymongo.cursor.Cursor object at 0x7fe4437e8f10>\n"
          ]
        }
      ]
    },
    {
      "cell_type": "code",
      "source": [
        "import csv\n",
        "csv_file = open('discentes-2022.csv')\n",
        "reader = csv.DictReader( csv_file, delimiter=';' )\n",
        "header = [\"matricula\",\"ano_ingresso\",\"periodo_ingresso\",\"id_curso\",\"id_unidade\",\"id_unidade_gestora\",\"nome_discente\",\"sexo\",\"forma_ingresso\",\"tipo_discente\",\"status\",\"sigla_nivel_ensino\", \"nivel_ensino\",\"nome_curso\",\"modalidade_educacao\",\"nome_unidade\",\"nome_unidade_gestora\"]\n",
        "alunos = db.alunos_ufrn\n",
        "for each in reader:\n",
        "    row={}\n",
        "    for field in header:\n",
        "        row[field]=each[field]\n",
        "    aluno = row\n",
        "    alunos.insert_one(aluno).inserted_id\n",
        "\n"
      ],
      "metadata": {
        "id": "19hrh3_lZ_Vt"
      },
      "execution_count": 7,
      "outputs": []
    },
    {
      "cell_type": "code",
      "source": [
        " "
      ],
      "metadata": {
        "id": "W_4NLcUYxI1r"
      },
      "execution_count": null,
      "outputs": []
    }
  ]
}