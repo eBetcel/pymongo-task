{
  "nbformat": 4,
  "nbformat_minor": 0,
  "metadata": {
    "colab": {
      "provenance": [],
      "collapsed_sections": [
        "kDwaZe4UQmL2",
        "AT-7eWs1QgNw"
      ],
      "authorship_tag": "ABX9TyOYce5Z+Fxe1+uJaS5aTV/R",
      "include_colab_link": true
    },
    "kernelspec": {
      "name": "python3",
      "display_name": "Python 3"
    },
    "language_info": {
      "name": "python"
    }
  },
  "cells": [
    {
      "cell_type": "markdown",
      "metadata": {
        "id": "view-in-github",
        "colab_type": "text"
      },
      "source": [
        "<a href=\"https://colab.research.google.com/github/eBetcel/pymongo-task/blob/main/script.ipynb\" target=\"_parent\"><img src=\"https://colab.research.google.com/assets/colab-badge.svg\" alt=\"Open In Colab\"/></a>"
      ]
    },
    {
      "cell_type": "markdown",
      "source": [
        "# Installing and importing libraries"
      ],
      "metadata": {
        "id": "kDwaZe4UQmL2"
      }
    },
    {
      "cell_type": "code",
      "execution_count": 1,
      "metadata": {
        "colab": {
          "base_uri": "https://localhost:8080/"
        },
        "id": "KLbBUrCqOlXB",
        "outputId": "20ee4ede-89ba-4119-e9cb-5dcce9456ab6"
      },
      "outputs": [
        {
          "output_type": "stream",
          "name": "stdout",
          "text": [
            "\n",
            "WARNING: apt does not have a stable CLI interface. Use with caution in scripts.\n",
            "\n",
            " * Starting database mongodb\n",
            "   ...done.\n"
          ]
        }
      ],
      "source": [
        "#Install and start server\n",
        "!apt install mongodb >log\n",
        "!service mongodb start\n",
        "\n",
        "from pymongo import MongoClient"
      ]
    },
    {
      "cell_type": "markdown",
      "source": [
        "# Creating Pymongo client"
      ],
      "metadata": {
        "id": "AT-7eWs1QgNw"
      }
    },
    {
      "cell_type": "code",
      "source": [
        "client = MongoClient('localhost', 27017)\n",
        "db = client.database"
      ],
      "metadata": {
        "id": "mSWWI1gXWM-N"
      },
      "execution_count": 2,
      "outputs": []
    },
    {
      "cell_type": "code",
      "source": [
        "alunos_ufrn = db.alunos_ufrn"
      ],
      "metadata": {
        "id": "NocS_nACQXR-"
      },
      "execution_count": 3,
      "outputs": []
    },
    {
      "cell_type": "markdown",
      "source": [
        "# Creating Pymongo Collection and inserting data from csv file"
      ],
      "metadata": {
        "id": "pNecayiMd5Wm"
      }
    },
    {
      "cell_type": "code",
      "source": [
        "import csv\n",
        "csv_file = open('discentes-2022.csv')\n",
        "reader = csv.DictReader( csv_file, delimiter=';' )\n",
        "header = [\"matricula\",\"ano_ingresso\",\"periodo_ingresso\",\"id_curso\",\"id_unidade\",\"id_unidade_gestora\",\"nome_discente\",\"sexo\",\"forma_ingresso\",\"tipo_discente\",\"status\",\"sigla_nivel_ensino\", \"nivel_ensino\",\"nome_curso\",\"modalidade_educacao\",\"nome_unidade\",\"nome_unidade_gestora\"]\n",
        "alunos = db.alunos_ufrn\n",
        "for each in reader:\n",
        "    row={}\n",
        "    for field in header:\n",
        "        row[field]=each[field]\n",
        "    aluno = row\n",
        "    alunos.insert_one(aluno).inserted_id\n",
        "\n"
      ],
      "metadata": {
        "id": "19hrh3_lZ_Vt"
      },
      "execution_count": 6,
      "outputs": []
    },
    {
      "cell_type": "code",
      "source": [
        "# Checks if colletion alunos_ufrn was added to database\n",
        "db.list_collection_names()"
      ],
      "metadata": {
        "colab": {
          "base_uri": "https://localhost:8080/"
        },
        "id": "rhg1pEdYdl7Z",
        "outputId": "70aa61a5-85ee-458c-edec-6c047478eebe"
      },
      "execution_count": 7,
      "outputs": [
        {
          "output_type": "execute_result",
          "data": {
            "text/plain": [
              "['alunos_ufrn']"
            ]
          },
          "metadata": {},
          "execution_count": 7
        }
      ]
    },
    {
      "cell_type": "code",
      "source": [
        "# Simple query to check if data is loaded\n",
        "import pprint\n",
        "pprint.pprint(alunos.find_one())"
      ],
      "metadata": {
        "colab": {
          "base_uri": "https://localhost:8080/"
        },
        "id": "bJaHGGKUeDMF",
        "outputId": "aba2242a-81a9-42fc-fba9-4380d44c1474"
      },
      "execution_count": 8,
      "outputs": [
        {
          "output_type": "stream",
          "name": "stdout",
          "text": [
            "{'_id': ObjectId('6396e736572a67bcf0b7b4c4'),\n",
            " 'ano_ingresso': '2022',\n",
            " 'forma_ingresso': 'SiSU',\n",
            " 'id_curso': '2071220',\n",
            " 'id_unidade': '445',\n",
            " 'id_unidade_gestora': '445',\n",
            " 'matricula': '20220017174',\n",
            " 'modalidade_educacao': 'PRESENCIAL',\n",
            " 'nivel_ensino': 'GRADUAÇÃO',\n",
            " 'nome_curso': 'ENGENHARIA DE PETRÓLEO',\n",
            " 'nome_discente': 'AARON VINICIUS MAIA SOBRINHO',\n",
            " 'nome_unidade': 'CENTRO DE TECNOLOGIA',\n",
            " 'nome_unidade_gestora': 'CENTRO DE TECNOLOGIA',\n",
            " 'periodo_ingresso': '1',\n",
            " 'sexo': 'M',\n",
            " 'sigla_nivel_ensino': 'G',\n",
            " 'status': 'ATIVO',\n",
            " 'tipo_discente': 'REGULAR'}\n"
          ]
        }
      ]
    },
    {
      "cell_type": "markdown",
      "source": [
        "## 1. Listar todos os alunos que ingressaram por meio do SiSU"
      ],
      "metadata": {
        "id": "bj2omDPgeV1y"
      }
    },
    {
      "cell_type": "code",
      "source": [
        "alunos_sisu = alunos.find({'forma_ingresso': 'SiSU'})\n",
        "for aluno in alunos_sisu:\n",
        "  pprint.pprint(aluno)\n",
        "  "
      ],
      "metadata": {
        "id": "-KBv5HjYeyly"
      },
      "execution_count": null,
      "outputs": []
    },
    {
      "cell_type": "markdown",
      "source": [
        "## 2. Listar todos os alunos que ingressaram no mestrado"
      ],
      "metadata": {
        "id": "oaH5mTMUecWS"
      }
    },
    {
      "cell_type": "code",
      "source": [
        "alunos_mestrado = alunos.find({'nivel_ensino': 'MESTRADO'})\n",
        "for aluno in alunos_mestrado:\n",
        "  pprint.pprint(aluno)"
      ],
      "metadata": {
        "id": "YjePej5ElSyK"
      },
      "execution_count": null,
      "outputs": []
    },
    {
      "cell_type": "markdown",
      "source": [
        "## 3. Listar todos os alunos de uma unidade gestora"
      ],
      "metadata": {
        "id": "oGIO-wOZef6T"
      }
    },
    {
      "cell_type": "code",
      "source": [
        "unidade_gestora = 'CENTRO DE TECNOLOGIA'\n",
        "alunos_unidade_gestora = alunos.find({'nome_unidade_gestora': 'unidade_gestora'})\n",
        "for aluno in alunos_unidade_gestora:\n",
        "  pprint.pprint(aluno)\n"
      ],
      "metadata": {
        "id": "bnSGzoF8lazJ"
      },
      "execution_count": null,
      "outputs": []
    },
    {
      "cell_type": "markdown",
      "source": [
        "## 4. Listar todos os alunos regulares"
      ],
      "metadata": {
        "id": "WGY09r-DeidT"
      }
    },
    {
      "cell_type": "code",
      "source": [
        "alunos_regulares = alunos.find({'tipo_discente': 'REGULAR'})\n",
        "for aluno in alunos_regulares:\n",
        "  pprint.pprint(aluno)"
      ],
      "metadata": {
        "id": "UFNUfQEuluLC"
      },
      "execution_count": null,
      "outputs": []
    },
    {
      "cell_type": "markdown",
      "source": [
        "## 5. Listar todos os alunos pelo status (cancelado, ativo, etc.)"
      ],
      "metadata": {
        "id": "-qJiandyemm8"
      }
    },
    {
      "cell_type": "code",
      "source": [
        "status_unique = ['ATIVO', 'CANCELADO', 'TRANCADO', 'CONCLUÍDO', 'CADASTRADO']\n",
        "\n",
        "alunos_todos_status = dict()\n",
        "\n",
        "#Cria dicionário de queries\n",
        "for status in status_unique:\n",
        "  alunos_status = alunos.find({'status': status})\n",
        "  alunos_todos_status[status] = alunos_status\n",
        "\n",
        "#imprime um status específico\n",
        "for aluno in alunos_todos_status['TRANCADO']:\n",
        "    pprint.pprint(aluno)"
      ],
      "metadata": {
        "id": "_ay6mdK3mS4o"
      },
      "execution_count": null,
      "outputs": []
    }
  ]
}